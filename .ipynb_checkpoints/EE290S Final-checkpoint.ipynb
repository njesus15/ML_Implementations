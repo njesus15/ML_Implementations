{
 "cells": [
  {
   "cell_type": "markdown",
   "metadata": {},
   "source": [
    "## Naive Method : Explore and then quickly exploit"
   ]
  },
  {
   "cell_type": "markdown",
   "metadata": {},
   "source": [
    "The following algorithm uses a very naive but intutitve approach. Here the assumption (as stated on the problem) that the structure of the losses given the three arms are known. Arm 3 will have Ber(1/2) with costs being 0 or (2,3) depending on what the parameters for arms 1 and 2 are. Thus, the naive approach is to sample arm 3 until a cost is incurred, and then based on this map to the arm given the relationship. Thus, the given structure allows us to have a very high confidence about what the optimal arm is."
   ]
  },
  {
   "cell_type": "code",
   "execution_count": 196,
   "metadata": {},
   "outputs": [
    {
     "name": "stdout",
     "output_type": "stream",
     "text": [
      "1\n",
      "Average loss thus far (should be < smaple mean): 3.0\n",
      "true total 0.293\n",
      "total\n"
     ]
    },
    {
     "data": {
      "text/plain": [
       "[<matplotlib.lines.Line2D at 0x122d26be0>]"
      ]
     },
     "execution_count": 196,
     "metadata": {},
     "output_type": "execute_result"
    },
    {
     "data": {
      "image/png": "[encoded data removed]",
      "text/plain": [
       "<Figure size 432x288 with 1 Axes>"
      ]
     },
     "metadata": {
      "needs_background": "light"
     },
     "output_type": "display_data"
    }
   ],
   "source": [
    "import numpy as np\n",
    "import pandas as pd\n",
    "import matplotlib.pyplot as plt\n",
    "\n",
    "#import scipy.io as spio\n",
    "\n",
    "# Setup the cost arrays based on the bernoulli distributions\n",
    "T = 1000\n",
    "# True mean\n",
    "\n",
    "mean1 = 0.7\n",
    "mean2 = 0.3\n",
    "\n",
    "# can think about t3 as the learning parameter\n",
    "def naiveMethod(t3, T, mean1, mean2) :\n",
    "    # note costs are either 0 or 1\n",
    "    avg_loss = np.zeros(T)\n",
    "    loss = np.zeros(T)\n",
    "    arm1_cost = np.random.binomial(1, mean1, (1,T))\n",
    "    arm2_cost = np.random.binomial(1, mean2, (1,T))\n",
    "\n",
    "\n",
    "    # Costs of arm 3 depend on the size of means\n",
    "    if (mean1 > mean2) :\n",
    "        cost3 = 3\n",
    "    else :\n",
    "        cost3 = 2\n",
    "        \n",
    "    arm3_cost = np.random.binomial(1, 0.5, (1, T)) * cost3\n",
    "    \n",
    "    cum_reward = 0\n",
    "    reward_time = 0\n",
    "    i = 0\n",
    "    while (cum_reward == 0) :\n",
    "        sample_reward = arm3_cost[0][i]\n",
    "        #print(smaple_reward)\n",
    "        cum_reward += sample_reward\n",
    "        loss[i] = loss[i - 1] + sample_reward\n",
    "        avg_loss[i] = loss[i] / (i + 1)\n",
    "        cum_reward = loss[i]\n",
    "        i += 1 # i here is the number of samples\n",
    "        \n",
    "        #if (sample_reward > 0) :\n",
    "        #    reward_time += 1\n",
    "\n",
    "    median = 2.5\n",
    "\n",
    "    t3 = i # This is bug ... should be fixed. Original code had t3 fixed, however I changed it such that the \n",
    "            # first t3 = the number of rounds until a loss > 0 is sampled from arm 3\n",
    "    print(t3)\n",
    "    print(\"Average loss thus far (should be < smaple mean):\", np.sum(avg_loss))\n",
    "    \n",
    "    \n",
    "    if (cum_reward >=  median) : # reward is 4,\n",
    "        opt_arm = arm2_cost[0][t3:T-1] # arm 2 is min cost\n",
    "        opt_arm_full = arm2_cost[0]\n",
    "    else : \n",
    "        opt_arm = arm1_cost[0][t3: T-1] # arm1 is min cost run that one\n",
    "        opt_arm_full = arm1_cost[0]\n",
    "    \n",
    "    \n",
    "    for i in range(t3, T) :\n",
    "        loss[i] += loss[i - 1] + opt_arm_full[i]\n",
    "        avg_loss[i] = loss[i] / (i + 1)\n",
    "        \n",
    "    total_cost = loss[-1] / T\n",
    "    return total_cost, avg_loss\n",
    "\n",
    "total_cost, avg_loss_naive = naiveMethod(T3, T, mean1, mean2)\n",
    "\n",
    "plt.title('Average Cost')\n",
    "plt.xlabel('Round T')\n",
    "plt.ylabel('avg cost')\n",
    "print(\"true total\", total_cost)\n",
    "print(\"total\",)\n",
    "plt.plot(avg_cost)\n"
   ]
  },
  {
   "cell_type": "markdown",
   "metadata": {},
   "source": [
    "## Thompson sampling: 2 armed bandit with Beta posterior "
   ]
  },
  {
   "cell_type": "markdown",
   "metadata": {},
   "source": [
    "The beauty of thomspon sampling: naturally explores then exploits. In this case, we have two parameters. In this case we explore 3 arms. Note that the on average, with T reaching a large number the average cost should around 0.3 (the optimal arm). However when T is not large enough we encounter a lot of costs given that we are exploring arm 3. "
   ]
  },
  {
   "cell_type": "code",
   "execution_count": 198,
   "metadata": {},
   "outputs": [
    {
     "data": {
      "image/png": "[encoded data removed]",
      "text/plain": [
       "<Figure size 432x288 with 1 Axes>"
      ]
     },
     "metadata": {
      "needs_background": "light"
     },
     "output_type": "display_data"
    }
   ],
   "source": [
    "# Apply thompson sampling for the two arms\n",
    "# means\n",
    "\n",
    "def ThompsonSampling (T) :\n",
    "    mu1 = 0.7\n",
    "    mu2 = 0.3\n",
    "    mu3 = 0.5\n",
    "\n",
    "\n",
    "    # define time horizon\n",
    "\n",
    "\n",
    "    # calculate the given loss arrays\n",
    "    arm1_cost = np.random.binomial(1, mu1, (1,T))\n",
    "    arm2_cost = np.random.binomial(1, mu2, (1,T))\n",
    "    arm3_cost = np.random.binomial(1, mu3, (1,T)) * 3\n",
    "\n",
    "    arm_costs = np.array([arm1_cost, arm2_cost, arm3_cost])\n",
    "\n",
    "    # draw from beta distribution\n",
    "    avg_loss = np.zeros(T)\n",
    "    loss_arr = np.zeros(T)\n",
    "\n",
    "    # Initialize parameters to uniform over all\n",
    "    param1 = np.array([1,1])\n",
    "    param2 = np.array([1,1])\n",
    "    param3 = np.array([1,1])\n",
    "\n",
    "    for i in range(T) :\n",
    "        w1 = np.random.beta(param1[0], param1[1])\n",
    "        w2 = np.random.beta(param2[0], param2[1])\n",
    "        w3 = np.random.beta(param3[0], param3[1])\n",
    "\n",
    "        # pick arm that minizmized the expected loss (or minimizes reward) i.e. with min w parameter\n",
    "\n",
    "        # Probably easier and more efficient way of extracting arm using indexing ... ignoring for now\n",
    "        theta = np.array([])\n",
    "        if (w1 < np.minimum(w2, w3)) :\n",
    "            arm = 0\n",
    "        elif (w2 < np.minimum(w1,w3)):\n",
    "            arm = 1\n",
    "        elif (w3 < np.minimum(w1,w2)) :\n",
    "            arm = 2\n",
    "\n",
    "        # Pick arm \n",
    "        arm_array = arm_costs[arm]\n",
    "        # get loss\n",
    "        loss = arm_array[0][i]\n",
    "\n",
    "        # update alpha and beta parameters depending on arm\n",
    "        if (arm == 0) :\n",
    "              param1 += np.array([loss, 1 - loss])\n",
    "        elif (arm == 1) : \n",
    "              param2 += np.array([loss, 1 - loss])\n",
    "        else :\n",
    "              param3 += np.array([loss, 3 - loss])\n",
    "\n",
    "        # Define loss vector\n",
    "        loss_arr[i] = loss    \n",
    "        # get the  average loss\n",
    "        avg_loss[i] = (loss + np.sum(loss_arr)) / (i + 1)\n",
    "        \n",
    "    return avg_loss\n",
    "\n",
    "avg_loss_ts = ThompsonSampling(T)\n",
    "plt.title('Avg loss with T.S.')\n",
    "plt.xlabel('T rounds')\n",
    "plt.ylabel('avg loss')\n",
    "\n",
    "plt.plot(avg_loss_ts)\n",
    "plt.show()"
   ]
  },
  {
   "cell_type": "markdown",
   "metadata": {},
   "source": [
    "## Comparing Plots"
   ]
  },
  {
   "cell_type": "code",
   "execution_count": 204,
   "metadata": {},
   "outputs": [
    {
     "name": "stdout",
     "output_type": "stream",
     "text": [
      "2\n",
      "Average loss thus far (should be < smaple mean): 1.5\n"
     ]
    },
    {
     "data": {
      "image/png": "[encoded data removed]",
      "text/plain": [
       "<Figure size 432x288 with 1 Axes>"
      ]
     },
     "metadata": {
      "needs_background": "light"
     },
     "output_type": "display_data"
    }
   ],
   "source": [
    "plt.title('Avg loss with T.S. and Naive Method')\n",
    "plt.xlabel('T rounds')\n",
    "plt.ylabel('avg loss')\n",
    "\n",
    "T = 1000\n",
    "nothing, avg_loss_naive = naiveMethod(2, T, 0.7, 0.3)\n",
    "avg_loss_ts = ThompsonSampling(T)\n",
    "plt.plot(avg_loss_naive)\n",
    "plt.plot(avg_loss_ts)\n",
    "plt.legend(['Naive', 'T.S.'])\n",
    "plt.show()"
   ]
  },
  {
   "cell_type": "markdown",
   "metadata": {},
   "source": [
    "## Problem 2: Extra Credit"
   ]
  },
  {
   "cell_type": "code",
   "execution_count": 306,
   "metadata": {},
   "outputs": [
    {
     "name": "stdout",
     "output_type": "stream",
     "text": [
      "done\n",
      "done\n",
      "done\n",
      "done\n"
     ]
    }
   ],
   "source": [
    "# define finite time horizon \n",
    "T = 1000\n",
    "\n",
    "# define a few sequences \n",
    "\n",
    "#stochastic \n",
    "stochastic_seq = np.random.binomial(1, 0.5, (1,T))\n",
    "\n",
    "#0101.. sequnce\n",
    "sequence1_list = [0,1]*int(T/2)\n",
    "sequence2_list = [0, 0, 1, 1]*int(T/4)\n",
    "periodic1_seq = np.array(sequence1_list)\n",
    "periodic2_seq = np.array(sequence2_list)\n",
    "\n",
    "\n",
    "# We will test compared to the sequences above\n",
    "# define optimal sequence with switch ending in 1\n",
    "def opt_seq_end1(seq) :\n",
    "    T = len(seq)\n",
    "    seq_ref = np.ones(T)\n",
    "    losses = np.zeros(T)\n",
    "    if (np.sum(np.absolute(np.array(seq_ref) - np.array(seq))) == 0) :\n",
    "        losses = 0\n",
    "        k = 0\n",
    "    else :\n",
    "        for i in range(T - 1) :\n",
    "            seq_ref[i] = 0\n",
    "            losses[i] = np.sum(np.absolute((np.array(seq_ref) - np.array(seq))))\n",
    "        k = np.argmin(losses)\n",
    "    #print(\"For 1:\", k, losses[k])\n",
    "    return k, losses\n",
    "\n",
    "\n",
    "# optimal sequnce with switch ending in zero\n",
    "def opt_seq_end0(seq) :\n",
    "    T = len(seq)\n",
    "    #print(\"Seq pass in \", seq)\n",
    "    seq_ref = np.zeros(T)\n",
    "    losses = np.zeros(T)\n",
    "    if (np.sum(np.absolute(np.array(seq_ref) - np.array(seq))) == 0) :\n",
    "        losses = 0\n",
    "        k = 0\n",
    "    else :\n",
    "        for i in range(T - 1) :\n",
    "            seq_ref[i] = 1\n",
    "            #print(\"Ref Seq after mod\", seq_ref)\n",
    "            losses[i] = np.sum(np.absolute(np.array(seq_ref) - np.array(seq)))\n",
    "        k = np.argmin(losses)\n",
    "    #print(\"For 0:\", k, losses[k])\n",
    "    return k, losses\n",
    "\n",
    "def multiClassMW(sequence, eta = 0.1) :\n",
    "    T = len(sequence)\n",
    "    weights = np.array([.5, .5])\n",
    "    kopt, opt_loss = opt_seq_end1(sequence)\n",
    "    optimal_loss = np.absolute(opt_loss)\n",
    "    regret_time_T = np.zeros(T)\n",
    "    losses = np.zeros(T)\n",
    "    cum_loss = np.zeros(T)\n",
    "    x_observed = []\n",
    "    \n",
    "    for i in range (T) :\n",
    "        #print(weights.shape)\n",
    "        w1 = weights[0]\n",
    "        w2 = weights[1]\n",
    "        \n",
    "        if (w1 > w2) :\n",
    "            w_max = 1 - w1 # in other words pick zero with probablility w1 which mean get one with probability 1 - w1\n",
    "            #print(\"Optimal is 0\")\n",
    "        else :\n",
    "            w_max = w2 # pick 1 with this probablily\n",
    "            #print(\"optimal is 1\")\n",
    "        x_hat = np.random.binomial(1, w_max)\n",
    "        #print(\"Predicted at round\",i, 'x=',x_hat)\n",
    "        x_true = sequence[i]\n",
    "        if (i == 0) :\n",
    "            x_observed = np.array([x_true])\n",
    "        else :\n",
    "            x_observed = np.concatenate((x_observed, x_true), axis = None)\n",
    "        if (x_true != x_hat) :\n",
    "            loss_t = 1\n",
    "        else : \n",
    "            loss_t = 0\n",
    "        losses[i] = loss_t\n",
    "        cum_loss[i] += cum_loss[i - 1] + loss_t\n",
    "    \n",
    "        # update parameters\n",
    "        k1, losses0 = opt_seq_end0((x_observed))\n",
    "        k2, losses1 = opt_seq_end1((x_observed))\n",
    "        \n",
    "        l0 = losses[k1]\n",
    "        l1 = losses[k2]\n",
    "            \n",
    "        e0 = np.exp(- eta * l0)\n",
    "        e1 = np.exp(- eta * l1)\n",
    "        \n",
    "        #print(l0, l1)\n",
    "        #print(\"obs\", x_observed)\n",
    "        #print(\"guess\",x_hat)\n",
    "        weights[0] = e0 / (e1 + e0)\n",
    "        weights[1] = e1 / (e1 + e0)\n",
    "        #print(\"losses\", losses0[k1], losses1[k2])\n",
    "        #print('Cons e', e0, e1)\n",
    "        #print(\"Weights\", weights)\n",
    "    print(\"done\")\n",
    "    return losses, cum_loss, optimal_loss\n",
    "\n",
    "ones = np.ones(500)\n",
    "zeros = np.zeros(500)\n",
    "easy_seq = np.concatenate((zeros, ones), axis = None)\n",
    "stochastic_seq = stochastic_seq[0]\n",
    "\n",
    "\n",
    "loss_period1, cumloss_period1, optloss_period1 = multiClassMW(periodic1_seq)\n",
    "loss_period2, cumloss_period2, optloss_period2 = multiClassMW(periodic2_seq)\n",
    "loss_stoch, cumloss_stoch, optloss_stoch = multiClassMW(np.array(stochastic_seq))\n",
    "loss_easy, cumloss_easy, optloss_easy = multiClassMW((easy_seq))\n"
   ]
  },
  {
   "cell_type": "code",
   "execution_count": 307,
   "metadata": {},
   "outputs": [
    {
     "data": {
      "image/png": "[encoded data removed]",
      "text/plain": [
       "<Figure size 432x288 with 1 Axes>"
      ]
     },
     "metadata": {
      "needs_background": "light"
     },
     "output_type": "display_data"
    }
   ],
   "source": [
    "# consider an easy sequence too\n",
    "\n",
    "plt.plot(cumloss_period1)\n",
    "plt.plot(cumloss_period2)\n",
    "plt.plot(cumloss_stoch)\n",
    "plt.plot(cumloss_easy)\n",
    "plt.legend(['period1','period2', 'stoch', 'trivial'])\n",
    "plt.show()"
   ]
  },
  {
   "cell_type": "code",
   "execution_count": null,
   "metadata": {},
   "outputs": [],
   "source": []
  },
  {
   "cell_type": "code",
   "execution_count": null,
   "metadata": {},
   "outputs": [],
   "source": []
  },
  {
   "cell_type": "code",
   "execution_count": null,
   "metadata": {},
   "outputs": [],
   "source": []
  }
 ],
 "metadata": {
  "kernelspec": {
   "display_name": "Python 3",
   "language": "python",
   "name": "python3"
  },
  "language_info": {
   "codemirror_mode": {
    "name": "ipython",
    "version": 3
   },
   "file_extension": ".py",
   "mimetype": "text/x-python",
   "name": "python",
   "nbconvert_exporter": "python",
   "pygments_lexer": "ipython3",
   "version": "3.7.1"
  }
 },
 "nbformat": 4,
 "nbformat_minor": 2
}
